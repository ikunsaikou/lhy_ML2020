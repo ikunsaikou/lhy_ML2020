{
 "cells": [
  {
   "cell_type": "code",
   "execution_count": 13,
   "metadata": {
    "collapsed": true
   },
   "outputs": [],
   "source": [
    "import torch\n",
    "from torchvision import transforms\n",
    "from torchvision import datasets\n",
    "from torch.utils.data import DataLoader\n",
    "import torch.nn.functional as F\n",
    "import torch.optim as optim\n",
    "import matplotlib.pyplot as plt"
   ]
  },
  {
   "cell_type": "code",
   "execution_count": 14,
   "outputs": [],
   "source": [
    "# prepare dataset\n",
    "\n",
    "batch_size = 64\n",
    "transform = transforms.Compose([transforms.ToTensor(), transforms.Normalize((0.1307,), (0.3081,))])\n",
    "\n",
    "train_dataset = datasets.MNIST(root='../dataset/mnist/', train=True, download=True, transform=transform)\n",
    "train_loader = DataLoader(train_dataset, shuffle=True, batch_size=batch_size)\n",
    "test_dataset = datasets.MNIST(root='../dataset/mnist/', train=False, download=True, transform=transform)\n",
    "test_loader = DataLoader(test_dataset, shuffle=False, batch_size=batch_size)"
   ],
   "metadata": {
    "collapsed": false,
    "pycharm": {
     "name": "#%%\n"
    }
   }
  },
  {
   "cell_type": "code",
   "execution_count": 15,
   "outputs": [],
   "source": [
    "# design model using class\n",
    "\n",
    "\n",
    "class Net(torch.nn.Module):\n",
    "    def __init__(self):\n",
    "        super(Net, self).__init__()\n",
    "        self.conv1 = torch.nn.Conv2d(1, 10, kernel_size=5)\n",
    "        self.conv2 = torch.nn.Conv2d(10, 20, kernel_size=5)\n",
    "        self.pooling = torch.nn.MaxPool2d(2)\n",
    "        self.fc = torch.nn.Linear(320, 10)\n",
    "\n",
    "    def forward(self, x): # 输入一组batch数据（64 * 1 * 28 * 28）\n",
    "        # flatten data from (n,1,28,28) to (n, 784)\n",
    "\n",
    "        batch_size = x.size(0)\n",
    "        x = F.relu(self.pooling(self.conv1(x)))\n",
    "        x = F.relu(self.pooling(self.conv2(x)))\n",
    "        x = x.view(batch_size, -1)  # -1 此处自动算出的是320\n",
    "        # print(\"x.shape\",x.shape)\n",
    "        x = self.fc(x)\n",
    "\n",
    "        return x"
   ],
   "metadata": {
    "collapsed": false,
    "pycharm": {
     "name": "#%%\n"
    }
   }
  },
  {
   "cell_type": "code",
   "execution_count": 16,
   "outputs": [],
   "source": [
    "model = Net()\n",
    "device = torch.device(\"cuda\" if torch.cuda.is_available() else \"cpu\")\n",
    "model.to(device)\n",
    "\n",
    "# construct loss and optimizer\n",
    "criterion = torch.nn.CrossEntropyLoss()\n",
    "\n",
    "# 此处optimizer获得了所有参数的引用\n",
    "optimizer = optim.SGD(model.parameters(), lr=0.01, momentum=0.5)\n",
    "\n"
   ],
   "metadata": {
    "collapsed": false,
    "pycharm": {
     "name": "#%%\n"
    }
   }
  },
  {
   "cell_type": "code",
   "execution_count": 17,
   "outputs": [],
   "source": [
    "# training cycle forward, backward, update\n",
    "def train(epoch):\n",
    "    running_loss = 0.0\n",
    "    for batch_idx, data in enumerate(train_loader, 0): # batch从0开始。返回一组batch数据和标签\n",
    "        inputs, target = data # 可以直接将一组batch数据和标签tensor分开\n",
    "        inputs, target = inputs.to(device), target.to(device)\n",
    "        optimizer.zero_grad()\n",
    "\n",
    "        outputs = model(inputs)\n",
    "        loss = criterion(outputs, target) # 产生梯度\n",
    "        loss.backward() # 将梯度传播到网络的所有节点\n",
    "        optimizer.step() # 应用新的梯度，并更新参数值\n",
    "\n",
    "        running_loss += loss.item()\n",
    "        if batch_idx % 300 == 299:\n",
    "            print('[%d, %5d] loss: %.3f' % (epoch + 1, batch_idx + 1, running_loss / 300))\n",
    "            running_loss = 0.0\n",
    "\n",
    "\n",
    "def test():\n",
    "    correct = 0\n",
    "    total = 0\n",
    "    with torch.no_grad():\n",
    "        for data in test_loader:\n",
    "            images, labels = data\n",
    "            images, labels = images.to(device), labels.to(device)\n",
    "            outputs = model(images)\n",
    "            _, predicted = torch.max(outputs.data, dim=1)\n",
    "            total += labels.size(0)\n",
    "            correct += (predicted == labels).sum().item()\n",
    "    print('accuracy on test set: %d %% ' % (100 * correct / total))\n",
    "    return correct / total"
   ],
   "metadata": {
    "collapsed": false,
    "pycharm": {
     "name": "#%%\n"
    }
   }
  },
  {
   "cell_type": "code",
   "execution_count": 18,
   "outputs": [
    {
     "name": "stdout",
     "output_type": "stream",
     "text": [
      "accuracy on test set: 97 % \n",
      "[3,   300] loss: 0.076\n",
      "[3,   600] loss: 0.080\n",
      "[3,   900] loss: 0.065\n",
      "accuracy on test set: 98 % \n",
      "[4,   300] loss: 0.064\n",
      "[4,   600] loss: 0.060\n",
      "[4,   900] loss: 0.060\n",
      "accuracy on test set: 98 % \n",
      "[5,   300] loss: 0.057\n",
      "[5,   600] loss: 0.054\n",
      "[5,   900] loss: 0.048\n",
      "accuracy on test set: 98 % \n",
      "[6,   300] loss: 0.052\n",
      "[6,   600] loss: 0.046\n",
      "[6,   900] loss: 0.049\n",
      "accuracy on test set: 98 % \n",
      "[7,   300] loss: 0.045\n",
      "[7,   600] loss: 0.041\n",
      "[7,   900] loss: 0.045\n",
      "accuracy on test set: 98 % \n",
      "[8,   300] loss: 0.041\n",
      "[8,   600] loss: 0.044\n",
      "[8,   900] loss: 0.037\n",
      "accuracy on test set: 98 % \n",
      "[9,   300] loss: 0.040\n",
      "[9,   600] loss: 0.035\n",
      "[9,   900] loss: 0.039\n",
      "accuracy on test set: 98 % \n",
      "[10,   300] loss: 0.035\n",
      "[10,   600] loss: 0.036\n",
      "[10,   900] loss: 0.034\n",
      "accuracy on test set: 98 % \n"
     ]
    },
    {
     "data": {
      "text/plain": "<Figure size 432x288 with 1 Axes>",
      "image/png": "[encoded data removed]"
     },
     "metadata": {
      "needs_background": "light"
     },
     "output_type": "display_data"
    },
    {
     "name": "stdout",
     "output_type": "stream",
     "text": [
      "[1,   300] loss: 0.654\n",
      "[1,   600] loss: 0.188\n",
      "[1,   900] loss: 0.138\n",
      "accuracy on test set: 96 % \n",
      "[2,   300] loss: 0.103\n",
      "[2,   600] loss: 0.097\n",
      "[2,   900] loss: 0.089\n",
      "accuracy on test set: 97 % \n",
      "[3,   300] loss: 0.079\n",
      "[3,   600] loss: 0.071\n",
      "[3,   900] loss: 0.068\n",
      "accuracy on test set: 98 % \n",
      "[4,   300] loss: 0.061\n",
      "[4,   600] loss: 0.060\n",
      "[4,   900] loss: 0.064\n",
      "accuracy on test set: 98 % \n",
      "[5,   300] loss: 0.056\n",
      "[5,   600] loss: 0.054\n",
      "[5,   900] loss: 0.052\n",
      "accuracy on test set: 98 % \n",
      "[6,   300] loss: 0.049\n",
      "[6,   600] loss: 0.048\n",
      "[6,   900] loss: 0.049\n",
      "accuracy on test set: 98 % \n",
      "[7,   300] loss: 0.046\n",
      "[7,   600] loss: 0.045\n",
      "[7,   900] loss: 0.042\n",
      "accuracy on test set: 98 % \n",
      "[8,   300] loss: 0.042\n",
      "[8,   600] loss: 0.037\n",
      "[8,   900] loss: 0.045\n",
      "accuracy on test set: 98 % \n",
      "[9,   300] loss: 0.040\n",
      "[9,   600] loss: 0.038\n",
      "[9,   900] loss: 0.036\n",
      "accuracy on test set: 98 % \n",
      "[10,   300] loss: 0.035\n",
      "[10,   600] loss: 0.039\n",
      "[10,   900] loss: 0.035\n",
      "accuracy on test set: 98 % \n"
     ]
    },
    {
     "data": {
      "text/plain": "<Figure size 432x288 with 1 Axes>",
      "image/png": "[encoded data removed]"
     },
     "metadata": {
      "needs_background": "light"
     },
     "output_type": "display_data"
    },
    {
     "name": "stdout",
     "output_type": "stream",
     "text": [
      "[1,   300] loss: 0.578\n",
      "[1,   600] loss: 0.196\n",
      "[1,   900] loss: 0.148\n",
      "accuracy on test set: 96 % \n",
      "[2,   300] loss: 0.108\n",
      "[2,   600] loss: 0.100\n",
      "[2,   900] loss: 0.096\n",
      "accuracy on test set: 97 % \n",
      "[3,   300] loss: 0.077\n",
      "[3,   600] loss: 0.079\n",
      "[3,   900] loss: 0.074\n",
      "accuracy on test set: 98 % \n",
      "[4,   300] loss: 0.065\n",
      "[4,   600] loss: 0.064\n",
      "[4,   900] loss: 0.063\n",
      "accuracy on test set: 97 % \n",
      "[5,   300] loss: 0.060\n",
      "[5,   600] loss: 0.057\n",
      "[5,   900] loss: 0.054\n",
      "accuracy on test set: 98 % \n",
      "[6,   300] loss: 0.051\n",
      "[6,   600] loss: 0.055\n",
      "[6,   900] loss: 0.050\n",
      "accuracy on test set: 98 % \n",
      "[7,   300] loss: 0.044\n",
      "[7,   600] loss: 0.049\n",
      "[7,   900] loss: 0.048\n",
      "accuracy on test set: 98 % \n",
      "[8,   300] loss: 0.044\n",
      "[8,   600] loss: 0.048\n",
      "[8,   900] loss: 0.039\n",
      "accuracy on test set: 98 % \n",
      "[9,   300] loss: 0.043\n",
      "[9,   600] loss: 0.039\n",
      "[9,   900] loss: 0.042\n",
      "accuracy on test set: 98 % \n",
      "[10,   300] loss: 0.037\n",
      "[10,   600] loss: 0.038\n",
      "[10,   900] loss: 0.040\n",
      "accuracy on test set: 98 % \n"
     ]
    },
    {
     "data": {
      "text/plain": "<Figure size 432x288 with 1 Axes>",
      "image/png": "[encoded data removed]"
     },
     "metadata": {
      "needs_background": "light"
     },
     "output_type": "display_data"
    }
   ],
   "source": [
    "if __name__ == '__main__':\n",
    "    epoch_list = []\n",
    "    acc_list = []\n",
    "\n",
    "    for epoch in range(10):\n",
    "        train(epoch)\n",
    "        acc = test()\n",
    "        epoch_list.append(epoch)\n",
    "        acc_list.append(acc)\n",
    "\n",
    "    plt.plot(epoch_list, acc_list)\n",
    "    plt.ylabel('accuracy')\n",
    "    plt.xlabel('epoch')\n",
    "    plt.show()\n",
    "\n"
   ],
   "metadata": {
    "collapsed": false,
    "pycharm": {
     "name": "#%%\n"
    }
   }
  }
 ],
 "metadata": {
  "kernelspec": {
   "display_name": "Python 3",
   "language": "python",
   "name": "python3"
  },
  "language_info": {
   "codemirror_mode": {
    "name": "ipython",
    "version": 2
   },
   "file_extension": ".py",
   "mimetype": "text/x-python",
   "name": "python",
   "nbconvert_exporter": "python",
   "pygments_lexer": "ipython2",
   "version": "2.7.6"
  }
 },
 "nbformat": 4,
 "nbformat_minor": 0
}