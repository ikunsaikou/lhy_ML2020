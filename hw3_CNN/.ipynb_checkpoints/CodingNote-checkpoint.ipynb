{
 "cells": [
  {
   "cell_type": "code",
   "execution_count": null,
   "metadata": {
    "collapsed": true,
    "pycharm": {
     "is_executing": true
    }
   },
   "outputs": [],
   "source": [
    "import os\n",
    "import numpy as np\n",
    "import cv2"
   ]
  },
  {
   "cell_type": "code",
   "execution_count": 6,
   "metadata": {
    "pycharm": {
     "name": "#%%\n"
    }
   },
   "outputs": [],
   "source": [
    "workspace_dir = './food-11'\n",
    "path = os.path.join(workspace_dir, \"training\")\n",
    "image_dir = sorted(os.listdir(path))\n",
    "x = np.zeros((len(image_dir), 128, 128, 3), dtype=np.uint8)\n",
    "x.shape\n",
    "file = image_dir[0]"
   ]
  },
  {
   "cell_type": "code",
   "execution_count": 10,
   "metadata": {
    "pycharm": {
     "name": "#%%\n"
    }
   },
   "outputs": [
    {
     "data": {
      "text/plain": [
       "array([[[253, 210, 189],\n",
       "        [252, 209, 188],\n",
       "        [250, 207, 186],\n",
       "        ...,\n",
       "        [247, 220, 212],\n",
       "        [247, 221, 212],\n",
       "        [246, 220, 211]],\n",
       "\n",
       "       [[249, 208, 189],\n",
       "        [248, 207, 188],\n",
       "        [242, 201, 183],\n",
       "        ...,\n",
       "        [251, 222, 217],\n",
       "        [250, 221, 216],\n",
       "        [249, 220, 215]],\n",
       "\n",
       "       [[238, 202, 187],\n",
       "        [236, 201, 186],\n",
       "        [240, 204, 189],\n",
       "        ...,\n",
       "        [249, 223, 216],\n",
       "        [251, 225, 218],\n",
       "        [248, 222, 215]],\n",
       "\n",
       "       ...,\n",
       "\n",
       "       [[105,  66,  64],\n",
       "        [101,  62,  60],\n",
       "        [106,  68,  66],\n",
       "        ...,\n",
       "        [250, 242, 227],\n",
       "        [251, 243, 229],\n",
       "        [246, 238, 224]],\n",
       "\n",
       "       [[103,  64,  62],\n",
       "        [110,  71,  69],\n",
       "        [107,  69,  67],\n",
       "        ...,\n",
       "        [251, 244, 229],\n",
       "        [252, 245, 230],\n",
       "        [250, 243, 228]],\n",
       "\n",
       "       [[106,  67,  65],\n",
       "        [112,  73,  71],\n",
       "        [105,  67,  65],\n",
       "        ...,\n",
       "        [254, 248, 233],\n",
       "        [250, 244, 229],\n",
       "        [253, 248, 233]]], dtype=uint8)"
      ]
     },
     "execution_count": 10,
     "metadata": {},
     "output_type": "execute_result"
    }
   ],
   "source": [
    "img = cv2.imread(os.path.join(path, file))\n",
    "y = cv2.resize(img, (128, 128))\n",
    "x[0, :, :] = cv2.resize(img, (128, 128))\n",
    "y"
   ]
  }
 ],
 "metadata": {
  "kernelspec": {
   "display_name": "Python 3 (ipykernel)",
   "language": "python",
   "name": "python3"
  },
  "language_info": {
   "codemirror_mode": {
    "name": "ipython",
    "version": 3
   },
   "file_extension": ".py",
   "mimetype": "text/x-python",
   "name": "python",
   "nbconvert_exporter": "python",
   "pygments_lexer": "ipython3",
   "version": "3.8.11"
  }
 },
 "nbformat": 4,
 "nbformat_minor": 1
}
